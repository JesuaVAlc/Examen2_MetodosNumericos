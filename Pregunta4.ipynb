{
 "cells": [
  {
   "cell_type": "markdown",
   "id": "8dd9fc00",
   "metadata": {},
   "source": [
    "## Pregunta 6\n",
    "Jesua Villacis"
   ]
  }
 ],
 "metadata": {
  "language_info": {
   "name": "python"
  }
 },
 "nbformat": 4,
 "nbformat_minor": 5
}
