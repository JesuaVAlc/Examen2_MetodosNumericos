{
 "cells": [
  {
   "cell_type": "markdown",
   "id": "d4ecfc6c",
   "metadata": {},
   "source": [
    "## Pregunta 5\n",
    "Jesua Villacis"
   ]
  }
 ],
 "metadata": {
  "language_info": {
   "name": "python"
  }
 },
 "nbformat": 4,
 "nbformat_minor": 5
}
